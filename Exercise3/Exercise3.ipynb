{
 "cells": [
  {
   "cell_type": "markdown",
   "source": [
    "# Zadanie 3 (7 punktów)\n\nCelem ćwiczenia jest imlementacja metody [Minimax z obcinaniem alpha-beta](https://en.wikipedia.org/wiki/Alpha%E2%80%93beta_pruning) do gry  Czwórki (ang. Connect Four).\n\nW trakcie ćwiczenia można skorzystać z reposytorium z implementacją gry [Connect Four udostępnionym przez Jakuba Łyskawę](https://github.com/lychanl/two-player-games). Ewentualnie, można zaimplementować samemu grę Connect Four.\n\nNależy zaimplementować co najmniej dwie heurystyki do ewaluacji planszy.  \n\nImplementację algorytmu Minimax (klasa `MiniMaxSolver`) należy przetestować używając różną głębokość przeszukiwania symulując grę \"komputer vs komputer\". W eksperymentach należy również zademonstrować różnice pomiędzy heurystykami.  \n\nW ramach zadania można zaimplementować dowolną liczbę dodatkowych metod w klasie `MiniMaxSolver`.\n\nPunktacja:\n\n- Działająca metoda Minimax oraz heurystyki do ewaluacji planszy. - **2 pkt**\n- Działająca metoda Minimax z obcinaniem alpha-beta. - **1.5 pkt**\n- Analiza jakości solvera w zależności od głębokości przeszukiwania - wykresy. - **2pkt**\n    - należy zaimplementować w tym celu prostą wizualizację rozgrywki dwóch agentów\n- Jakość kodu. - **1.5pkt**"
   ],
   "metadata": {
    "collapsed": false
   }
  },
  {
   "cell_type": "markdown",
   "source": [
    "Aby importowanie elementów z poniższej komórki działało należy umieścić tego notebooka w tym samym folderze co paczkę `two_player_games`:\n",
    "```\n",
    "├── LICENSE\n",
    "├── README.md\n",
    "├── minimax.ipynb # <<< HERE\n",
    "├── test\n",
    "│   ├── __init__.py\n",
    "│   ├── test_connect_four.py\n",
    "│   ├── test_dots_and_boxes.py\n",
    "│   └── test_pick.py\n",
    "└── two_player_games\n",
    "    ├── __init__.py\n",
    "    ├── games\n",
    "    │   ├── connect_four.py\n",
    "    │   └── dots_and_boxes.py\n",
    "    ├── move.py\n",
    "    ├── player.py\n",
    "    └── state.py\n",
    "```"
   ],
   "metadata": {
    "collapsed": false
   }
  },
  {
   "cell_type": "code",
   "source": [
    "from typing import Tuple, List\n",
    "from two_player_games.player import Player\n",
    "from two_player_games.games.connect_four import ConnectFour, ConnectFourMove, ConnectFourState\n",
    "import numpy as np\n",
    "from random import choice"
   ],
   "metadata": {
    "collapsed": true,
    "ExecuteTime": {
     "end_time": "2024-11-26T03:13:55.759165Z",
     "start_time": "2024-11-26T03:13:55.618559Z"
    }
   },
   "outputs": [],
   "execution_count": 9
  },
  {
   "cell_type": "markdown",
   "source": [
    "Wielkość planszy"
   ],
   "metadata": {
    "collapsed": false
   }
  },
  {
   "cell_type": "code",
   "source": [
    "ROW_COUNT = 6\n",
    "COLUMN_COUNT = 7"
   ],
   "metadata": {
    "collapsed": false,
    "ExecuteTime": {
     "end_time": "2024-11-26T03:13:55.775099Z",
     "start_time": "2024-11-26T03:13:55.771208Z"
    }
   },
   "outputs": [],
   "execution_count": 10
  },
  {
   "metadata": {
    "collapsed": false,
    "ExecuteTime": {
     "end_time": "2024-11-26T03:13:55.858299Z",
     "start_time": "2024-11-26T03:13:55.828968Z"
    }
   },
   "cell_type": "code",
   "outputs": [],
   "execution_count": 11,
   "source": [
    "class MinMaxSolver:\n",
    "    def __init__(self, game: ConnectFour, row_count: int, column_count: int, max_player: Player, min_player: Player):\n",
    "        self._game = game\n",
    "        self._state = self._game.state\n",
    "        self._row_count = row_count\n",
    "        self._column_count = column_count\n",
    "        self._max_player = max_player\n",
    "        self._min_player = min_player\n",
    "        \n",
    "        # weights for the amount of player tokens in a segment in the future iteration\n",
    "        self._heuristic_prizes = {\n",
    "            \"players_one_in_segment\": 1,\n",
    "            \"players_two_in_segment\": 5,\n",
    "            \"players_three_in_segment\": 20,\n",
    "            \"players_four_in_segment\": 30,\n",
    "            \"opponent_four_in_segment\": 90\n",
    "        }\n",
    "    \n",
    "    def get_heuristic(self, current_state: ConnectFourState) -> float:\n",
    "        heuristics_value = 0\n",
    "\n",
    "        # Vertical\n",
    "        for column in range(self._column_count):\n",
    "            for row in range(self._row_count - 3):\n",
    "                segment = [current_state.fields[column][row + i] for i in range(4)]\n",
    "                heuristics_value += self._get_segment_heuristic(segment)\n",
    "\n",
    "        # Horizontal\n",
    "        for column in range(self._column_count - 3):\n",
    "            for row in range(self._row_count):\n",
    "                segment = [current_state.fields[column + i][row] for i in range(4)]\n",
    "                heuristics_value += self._get_segment_heuristic(segment)\n",
    "\n",
    "        # Diagonal\n",
    "        for column in range(self._column_count - 3):\n",
    "            for row in range(self._row_count - 3):\n",
    "                segment = [current_state.fields[column + i][row + i] for i in range(4)]\n",
    "                heuristics_value += self._get_segment_heuristic(segment)\n",
    "\n",
    "        # Antydiagonal\n",
    "        for column in range(self._column_count - 3):\n",
    "            for row in range(3, self._row_count):\n",
    "                segment = [current_state.fields[column + i][row - i] for i in range(4)]\n",
    "                heuristics_value += self._get_segment_heuristic(segment)\n",
    "\n",
    "        return heuristics_value\n",
    "\n",
    "    def _get_segment_heuristic(self, segment: List):\n",
    "        heuristics_value = 0\n",
    "        \n",
    "        if segment.count(self._max_player) == 4:\n",
    "            heuristics_value += self._heuristic_prizes[\"players_four_in_segment\"]\n",
    "        elif segment.count(self._max_player) == 3 and segment.count(None) == 1:\n",
    "            heuristics_value += self._heuristic_prizes[\"players_three_in_segment\"]\n",
    "        elif segment.count(self._max_player) == 2 and segment.count(None) == 2:\n",
    "            heuristics_value += self._heuristic_prizes[\"players_two_in_segment\"]\n",
    "        elif segment.count(self._max_player) == 1 and segment.count(None) == 3:\n",
    "            heuristics_value += self._heuristic_prizes[\"players_one_in_segment\"]\n",
    "        elif segment.count(self._min_player) == 3 and segment.count(None) == 1:\n",
    "            heuristics_value -= self._heuristic_prizes[\"opponent_four_in_segment\"]\n",
    "        elif segment.count(self._min_player) == 1 and segment.count(None) == 3:\n",
    "            heuristics_value -= self._heuristic_prizes[\"players_one_in_segment\"]\n",
    "\n",
    "        return heuristics_value\n",
    "\n",
    "    def get_best_move(self) -> int:\n",
    "        pass\n",
    "\n",
    "    def is_valid_move(self, col_index:int) -> bool:\n",
    "        if self._state.fields[col_index][-1] is None:\n",
    "            return True\n",
    "        else:\n",
    "            return False\n",
    "        \n",
    "    def minimax_alpha_beta(self, current_state: ConnectFourState, depth: int, alpha: float, beta: float,\n",
    "                is_maximizing_player: bool) -> Tuple[int|None, float]:\n",
    "\n",
    "        if current_state.is_finished():\n",
    "            if current_state.get_winner() == self._max_player:\n",
    "                return None, 1e10\n",
    "            elif current_state.get_winner() == self._min_player:\n",
    "                return None, -1e10\n",
    "            else:\n",
    "                return None, 0\n",
    "        if depth == 0:\n",
    "            return None, self.get_heuristic(current_state)\n",
    "\n",
    "        valid_moves = current_state.get_moves() # czy tutaj wziąć z obecnego stanu\n",
    "        chosen_move = choice(valid_moves)\n",
    "        \n",
    "        if is_maximizing_player:\n",
    "            value = -np.inf\n",
    "            for valid_move in valid_moves:\n",
    "                heuristic = self.minimax_alpha_beta(current_state.make_move(ConnectFourMove(valid_move)), depth - 1, alpha, beta, False)[1]\n",
    "\n",
    "                if heuristic > value:\n",
    "                    value = heuristic\n",
    "                    chosen_move = valid_move\n",
    "\n",
    "                alpha = max(alpha, value)\n",
    "\n",
    "                if alpha >= beta:\n",
    "                    break\n",
    "                    \n",
    "        else:\n",
    "            value = np.inf\n",
    "            for valid_move in valid_moves:\n",
    "                heuristic = self.minimax_alpha_beta(current_state.make_move(ConnectFourMove(valid_move)), depth - 1, alpha, beta, True)[1]\n",
    "\n",
    "                if heuristic < value:\n",
    "                    value = heuristic\n",
    "                    chosen_move = valid_move\n",
    "\n",
    "                beta = min(beta, value)\n",
    "\n",
    "                if alpha >= beta:\n",
    "                    break\n",
    "\n",
    "        return chosen_move, value\n",
    "    \n",
    "    def minimax(self, current_state: ConnectFourState, depth: int, is_maximizing_player: bool) -> Tuple[int|None, float]:\n",
    "\n",
    "        if current_state.is_finished():\n",
    "            if current_state.get_winner() == self._max_player:\n",
    "                return None, 1e10\n",
    "            elif current_state.get_winner() == self._min_player:\n",
    "                return None, -1e10\n",
    "            else:\n",
    "                return None, 0\n",
    "        if depth == 0:\n",
    "            return None, self.get_heuristic(current_state)\n",
    "        \n",
    "        valid_moves = current_state.get_valid_moves()\n",
    "        chosen_moves = []\n",
    "        if is_maximizing_player:\n",
    "            value = -np.inf\n",
    "            for valid_move in valid_moves:\n",
    "                heuristic = self.minimax(current_state.make_move(ConnectFourMove(valid_move)), depth - 1, False)[1]\n",
    "                \n",
    "                if heuristic >= value:\n",
    "                    value = heuristic\n",
    "                    chosen_moves.append(valid_move, heuristic)\n",
    "            \n",
    "            return max(chosen_moves, key=lambda x: x[1])\n",
    "        \n",
    "        else:\n",
    "            value = np.inf\n",
    "            for valid_move in valid_moves:\n",
    "                heuristic = self.minimax(current_state.make_move(ConnectFourMove(valid_move)), depth - 1, True)[1]\n",
    "                \n",
    "                if heuristic <= value:\n",
    "                    value = heuristic\n",
    "                    chosen_moves.append(valid_move, heuristic)\n",
    "            \n",
    "            return min(chosen_moves, key=lambda x: x[1])"
   ]
  },
  {
   "cell_type": "markdown",
   "source": [
    "Rozgrywka"
   ],
   "metadata": {
    "collapsed": false
   }
  },
  {
   "cell_type": "code",
   "source": [
    "p1 = Player(\"X\")\n",
    "p2 = Player(\"O\")\n",
    "game = ConnectFour(size=(COLUMN_COUNT, ROW_COUNT), first_player=p1, second_player=p2)\n",
    "game.make_move(ConnectFourMove(3))\n",
    "game.make_move(ConnectFourMove(4))\n",
    "game.make_move(ConnectFourMove(3))\n",
    "\n",
    "print(game)"
   ],
   "metadata": {
    "collapsed": false,
    "ExecuteTime": {
     "end_time": "2024-11-26T03:13:55.978071Z",
     "start_time": "2024-11-26T03:13:55.973555Z"
    }
   },
   "outputs": [
    {
     "name": "stdout",
     "output_type": "stream",
     "text": [
      "Current player: O\n",
      "[ ][ ][ ][ ][ ][ ][ ]\n",
      "[ ][ ][ ][ ][ ][ ][ ]\n",
      "[ ][ ][ ][ ][ ][ ][ ]\n",
      "[ ][ ][ ][ ][ ][ ][ ]\n",
      "[ ][ ][ ][X][ ][ ][ ]\n",
      "[ ][ ][ ][X][O][ ][ ]\n"
     ]
    }
   ],
   "execution_count": 12
  }
 ],
 "metadata": {
  "kernelspec": {
   "display_name": "Python 3",
   "language": "python",
   "name": "python3"
  },
  "language_info": {
   "codemirror_mode": {
    "name": "ipython",
    "version": 2
   },
   "file_extension": ".py",
   "mimetype": "text/x-python",
   "name": "python",
   "nbconvert_exporter": "python",
   "pygments_lexer": "ipython2",
   "version": "2.7.6"
  },
  "nteract": {
   "version": "nteract-front-end@1.0.0"
  }
 },
 "nbformat": 4,
 "nbformat_minor": 0
}
