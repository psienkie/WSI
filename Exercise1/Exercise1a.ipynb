{
 "cells": [
  {
   "cell_type": "markdown",
   "source": [
    "# Zadanie 1a (3 pkt)\n",
    "Celem zadania jest rozwiązanie problemu plecakowego dwoma metodami - brute force oraz według zadanej heurystyki. Należy zaimplementować metody klasy *KnapSack* - *solve_knapsack_brute_force* oraz *solve_knapsack_pw_ratio*. Poprzez rozwiązanie problemu rozumiemy podanie które przedmioty (indeksy w tablicy) należy spakować do plecaka oraz jaka jest sumaryczna wartość i masa plecaka. Punktacja wygląda następująco:\n",
    "\n",
    "\n",
    "*   Rozwiązanie problemu metodą brute force. *Podpowiedź: do wygenerowania wszystkich permutacji można użyć funkcji product z biblioteki itertools* - **1.5 pkt**\n",
    "*   Rozwiązanie problemu według heurystyki - do plecaka pakujemy przedmioty według stosunku wartości do wagi - **1 pkt**\n",
    "*   Dla metody brute force proszę wygenerować wykres zależności czasu wykonywania metody od liczby elementów w tablicach *weights* i *profits* (do obu tablic należy stopniowo dopisywać po jednym elemencie, np. 10-krotnie, wartości elementów nie mają znaczenia). Proszę również odpowiedzieć na pytania (w osobnej komórce tekstowej) - czy obie metody mają takie same rozwiązania? Jakie są Pani / Pana wnioski? - **0.5 pkt**\n",
    "\n",
    "\n"
   ],
   "metadata": {
    "id": "88lxDms-saqt"
   }
  },
  {
   "cell_type": "code",
   "source": [
    "import numpy as np\n",
    "from itertools import product\n",
    "from random import randint\n",
    "import time\n",
    "import matplotlib.pyplot as plt\n"
   ],
   "metadata": {
    "id": "1X0PiYKZ2w63",
    "ExecuteTime": {
     "end_time": "2024-10-28T12:48:05.994280Z",
     "start_time": "2024-10-28T12:48:05.275027Z"
    }
   },
   "outputs": [],
   "execution_count": 15
  },
  {
   "cell_type": "code",
   "source": [
    "weights = np.array([8, 3, 5, 2])\n",
    "capacity = 9\n",
    "profits = np.array([16, 8, 9, 6])\n"
   ],
   "metadata": {
    "id": "_IOCNGpCuy8s",
    "ExecuteTime": {
     "end_time": "2024-10-28T12:48:06.010327Z",
     "start_time": "2024-10-28T12:48:06.006750Z"
    }
   },
   "outputs": [],
   "execution_count": 16
  },
  {
   "cell_type": "code",
   "source": [
    "class KnapSack:\n",
    "    def __init__(self, profits, weights, capacity):\n",
    "        self.profits = profits\n",
    "        self.weights = weights\n",
    "        self.capacity = capacity\n",
    "        \n",
    "  \n",
    "    def solve_knapsack_brute_force(self):\n",
    "        best_combination = None\n",
    "        best_profit = 0\n",
    "        best_weight = 0\n",
    "        combinations = product([0, 1], repeat=len(self.weights))\n",
    "        \n",
    "        for selected_items in combinations:\n",
    "            sum_weights = sum(weight for weight, selected in\n",
    "                             zip(self.weights, selected_items) if selected == 1)\n",
    "            if sum_weights > self.capacity:\n",
    "                continue\n",
    "            sum_profits = sum(profit for profit, selected in\n",
    "                              zip(self.profits, selected_items) if selected == 1)\n",
    "            \n",
    "            if sum_profits > best_profit:\n",
    "                best_profit = sum_profits\n",
    "                best_weight = sum_weights\n",
    "                best_combination = selected_items\n",
    "        \n",
    "        return [i for i, selected in enumerate(best_combination) if selected == 1], best_profit, best_weight\n",
    "\n",
    "\n",
    "    def solve_knapsack_pw_ratio(self):\n",
    "        pw_ratios = [(i, self.profits[i]/self.weights[i]) for i in range(len(self.weights))]\n",
    "        pw_ratios.sort(key=lambda x: x[1], reverse=True)\n",
    "        \n",
    "        sum_weights = 0\n",
    "        sum_profits = 0\n",
    "        selected_items = []\n",
    "        \n",
    "        for i, _ in pw_ratios:\n",
    "            if sum_weights + self.weights[i] <= self.capacity:\n",
    "                selected_items.append(i)\n",
    "                sum_weights += self.weights[i]\n",
    "                sum_profits += self.profits[i]\n",
    "                \n",
    "        return selected_items, sum_profits, sum_weights\n",
    "                "
   ],
   "metadata": {
    "id": "s5J82x9WuSOh",
    "ExecuteTime": {
     "end_time": "2024-10-28T12:48:06.061507Z",
     "start_time": "2024-10-28T12:48:06.054403Z"
    }
   },
   "outputs": [],
   "execution_count": 17
  },
  {
   "metadata": {},
   "cell_type": "markdown",
   "source": "## Podstawowy test działania napisanych metod"
  },
  {
   "metadata": {
    "ExecuteTime": {
     "end_time": "2024-10-28T12:48:06.114689Z",
     "start_time": "2024-10-28T12:48:06.109042Z"
    }
   },
   "cell_type": "code",
   "source": [
    "knap_sack = KnapSack(profits, weights, capacity)\n",
    "\n",
    "print(f\"Brute force method solve at capacity = {capacity}\")\n",
    "selected_items, sum_profits, sum_weights = knap_sack.solve_knapsack_brute_force()\n",
    "print(f\"Selected items: {selected_items}; profits sum: {sum_profits}; weights sum: {sum_weights}\\n\")\n",
    "\n",
    "print(f\"Heuristic pw ratio method solve at capacity = {capacity}\")\n",
    "selected_items, sum_profits, sum_weights = knap_sack.solve_knapsack_pw_ratio()\n",
    "print(f\"Selected items: {selected_items}; profits sum: {sum_profits}; weights sum: {sum_weights}\\n\")"
   ],
   "outputs": [
    {
     "name": "stdout",
     "output_type": "stream",
     "text": [
      "Brute force method solve at capacity = 9\n",
      "Selected items: [1, 2]; profits sum: 17; weights sum: 8\n",
      "\n",
      "Heuristic pw ratio method solve at capacity = 9\n",
      "Selected items: [3, 1]; profits sum: 14; weights sum: 5\n",
      "\n"
     ]
    }
   ],
   "execution_count": 18
  },
  {
   "metadata": {},
   "cell_type": "markdown",
   "source": [
    "Jak widać, obie metody zwróciły inne wyniki. Nie świadczy to jednak o ich złym działaniu. Metoda brute force sprawdza wszystkie możliwe kombinacje i porównuje zyski dla wszystkich dopuszczalnych kombinacji. Dlatego też zwraca ona zawsze najlepsze możliwe rozwiązanie problemu plecakowego. Metoda heurystyczna niestety nie zawsze zwraca optymalne rozwiązanie, co zależy w dużej mierze od rozważanych wag i zysków z poszczególnych przedmiotów. Jej zaletą jest natomiast większa szybkość działania.\n",
    "## Analiza wydajności napisanych metod"
   ]
  },
  {
   "metadata": {
    "ExecuteTime": {
     "end_time": "2024-10-28T12:48:17.276504Z",
     "start_time": "2024-10-28T12:48:06.244642Z"
    }
   },
   "cell_type": "code",
   "source": [
    "max_weight = 20\n",
    "max_profit = 20\n",
    "\n",
    "max_elements_number1 = 20\n",
    "max_elements_number2 = 200\n",
    "\n",
    "execution_times1 = []\n",
    "execution_times2 = []\n",
    "elements_numbers1 = []\n",
    "elements_numbers2 = []\n",
    "\n",
    "weights1 = weights.copy()\n",
    "profits1 = profits.copy()\n",
    "\n",
    "for _ in range(max_elements_number1 - len(weights1)):\n",
    "    weights1 = np.append(weights1, randint(1, max_weight))\n",
    "    profits1 = np.append(profits1, randint(1, max_profit))\n",
    "    \n",
    "    knap_sack = KnapSack(profits1, weights1, capacity)\n",
    "    \n",
    "    start_time = time.process_time()\n",
    "    knap_sack.solve_knapsack_brute_force()\n",
    "    end_time = time.process_time()\n",
    "    execution_time = end_time - start_time\n",
    "    execution_times1.append(execution_time)\n",
    "    \n",
    "    print(f\"Brute force method;\\t Items number: {len(weights1)};\\t execution time: {execution_time}\")\n",
    "    elements_numbers1.append(len(weights1))\n",
    "    \n",
    "    \n",
    "    \n",
    "    \n",
    "    \n",
    "    \n",
    "    "
   ],
   "outputs": [
    {
     "name": "stdout",
     "output_type": "stream",
     "text": [
      "Brute force method;\t Items number: 5;\t execution time: 0.00017572500000007096\n",
      "Brute force method;\t Items number: 6;\t execution time: 0.00029692300000006\n",
      "Brute force method;\t Items number: 7;\t execution time: 0.0005605260000001167\n",
      "Brute force method;\t Items number: 8;\t execution time: 0.0013861359999998157\n",
      "Brute force method;\t Items number: 9;\t execution time: 0.0023241640000000174\n",
      "Brute force method;\t Items number: 10;\t execution time: 0.004989012000000237\n",
      "Brute force method;\t Items number: 11;\t execution time: 0.010927314999999993\n",
      "Brute force method;\t Items number: 12;\t execution time: 0.02223275700000027\n",
      "Brute force method;\t Items number: 13;\t execution time: 0.043670448999999945\n",
      "Brute force method;\t Items number: 14;\t execution time: 0.069890381\n",
      "Brute force method;\t Items number: 15;\t execution time: 0.14084949200000008\n",
      "Brute force method;\t Items number: 16;\t execution time: 0.2444936259999997\n",
      "Brute force method;\t Items number: 17;\t execution time: 0.455452336\n",
      "Brute force method;\t Items number: 18;\t execution time: 1.7015368789999998\n",
      "Brute force method;\t Items number: 19;\t execution time: 2.850979088\n",
      "Brute force method;\t Items number: 20;\t execution time: 5.466564673000001\n"
     ]
    }
   ],
   "execution_count": 19
  }
 ],
 "metadata": {
  "colab": {
   "provenance": []
  },
  "kernelspec": {
   "name": "python3",
   "display_name": "Python 3 (ipykernel)",
   "language": "python"
  },
  "language_info": {
   "name": "python"
  },
  "accelerator": "GPU",
  "nteract": {
   "version": "nteract-front-end@1.0.0"
  }
 },
 "nbformat": 4,
 "nbformat_minor": 0
}
